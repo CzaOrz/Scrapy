{
 "cells": [
  {
   "cell_type": "code",
   "execution_count": 1,
   "metadata": {},
   "outputs": [],
   "source": [
    "import numpy as np\n",
    "import pandas as pd"
   ]
  },
  {
   "cell_type": "code",
   "execution_count": 19,
   "metadata": {},
   "outputs": [],
   "source": [
    "s = pd.Series([1, 3, 5, np.nan, 6, 8])\n",
    "d = pd.date_range('20130101', periods=6)\n",
    "df = pd.DataFrame(np.random.randn(6,4), index=d, columns=list('ABCD'))\n",
    "f_by_dict = pd.DataFrame({'a':1,'C': pd.Series(1, index=list(range(4)), dtype='float32')})"
   ]
  },
  {
   "cell_type": "markdown",
   "metadata": {},
   "source": [
    "f_by_dict.head()  # 看见顶部数据\n",
    "f_by_dict.tail(3)  # 看见尾部数据\n",
    "df.T  # 转置\n",
    "df.sort_index(axis=1, ascending=False)  # 按轴排序\n",
    "df.sort_values(by='B')  # 按值排序\n",
    "df['A']  # 选择此列\n",
    "df[0:3]  # 切片，前三行"
   ]
  }
 ],
 "metadata": {
  "kernelspec": {
   "display_name": "Python 3",
   "language": "python",
   "name": "python3"
  },
  "language_info": {
   "codemirror_mode": {
    "name": "ipython",
    "version": 3
   },
   "file_extension": ".py",
   "mimetype": "text/x-python",
   "name": "python",
   "nbconvert_exporter": "python",
   "pygments_lexer": "ipython3",
   "version": "3.7.3"
  }
 },
 "nbformat": 4,
 "nbformat_minor": 2
}
